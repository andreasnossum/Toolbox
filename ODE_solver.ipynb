{
 "cells": [
  {
   "cell_type": "markdown",
   "metadata": {},
   "source": [
    "# ODE solver"
   ]
  },
  {
   "cell_type": "markdown",
   "metadata": {},
   "source": [
    "This notebook contains\n",
    "\n",
    "- Euler's method\n",
    "\n",
    "- 2nd order Runke-Kutta method\n",
    "\n",
    "- 4th order Runge-Kutta method\n",
    "\n",
    "$ f^{n+1} = f(x^{n+1}) = f(x^n+\\Delta x) $\n"
   ]
  },
  {
   "cell_type": "code",
   "execution_count": null,
   "metadata": {},
   "outputs": [],
   "source": [
    "import numpy as np\n",
    "import matplotlib.pyplot as plt\n",
    "\n",
    "from matplotlib import style\n",
    "#style.available\n",
    "style.use('seaborn-v0_8-darkgrid')"
   ]
  },
  {
   "cell_type": "markdown",
   "metadata": {},
   "source": [
    "## Euler's method"
   ]
  },
  {
   "cell_type": "markdown",
   "metadata": {},
   "source": [
    "First order difference approximation.\n",
    "\n",
    "$$ \\frac{f^{n+1}-f^n}{\\Delta x} = \\dot{f}^n +  \\mathcal{O}(\\Delta x) $$\n",
    "\n",
    "$$ f^{n+1} = f^n + \\Delta x\\dot{f}^n +  \\mathcal{O}(\\Delta x^2) $$\n",
    "\n",
    "- First order accurate\n",
    "\n",
    "When we have multiple coupled first order differential equations, we can collect them in a vector $\\vec{f}$. Applying Euler's method to this $\\vec{f}$ directly applies the method on its components as well."
   ]
  },
  {
   "cell_type": "markdown",
   "metadata": {},
   "source": [
    "### Simple pendulum"
   ]
  },
  {
   "cell_type": "markdown",
   "metadata": {},
   "source": [
    "\n",
    "\n",
    "In the case of a simple pendulum with angle $\\theta$ and angular velocity $\\omega$\n",
    "\n",
    "$$ \\vec{a} = \\begin{bmatrix} \\theta \\\\ \\omega \\end{bmatrix} $$\n",
    "\n",
    "$$ \\dot{\\vec{a}} = \\begin{bmatrix} \\dot{\\theta} \\\\ \\dot{\\omega} \\end{bmatrix} = \\begin{bmatrix} \\omega \\\\ -\\frac{g}{L}\\sin(\\theta) \\end{bmatrix} $$\n",
    "\n",
    "$$ \\frac{a^{n+1}-a^n}{\\tau} = \\dot{a}^n + \\mathcal{O} (\\tau) $$\n",
    "\n",
    "$$ a^{n+1} = a^n + \\tau \\dot{a}^n + \\mathcal{O}\\left(\\tau^2\\right) $$\n",
    "\n",
    "$$ \\begin{bmatrix} \\theta \\\\ \\omega \\end{bmatrix} ^{n+1} = \\begin{bmatrix} \\theta \\\\ \\omega \\end{bmatrix} ^{n} + \\tau \\begin{bmatrix} \\omega \\\\ -\\frac{g}{L}\\sin(\\theta) \\end{bmatrix} ^{n} + \\mathcal{O}\\left(\\tau^2\\right) $$\n",
    "\n",
    "$$ \\begin{bmatrix} \\theta^{n+1} \\\\ \\omega^{n+1} \\end{bmatrix} = \\begin{bmatrix} \\theta ^{n} \\\\ \\omega ^{n} \\end{bmatrix} + \\tau \\begin{bmatrix} \\omega ^{n} \\\\ -\\frac{g}{L}\\sin(\\theta ^{n}) \\end{bmatrix} + \\mathcal{O}\\left(\\tau^2\\right) $$"
   ]
  },
  {
   "cell_type": "code",
   "execution_count": null,
   "metadata": {},
   "outputs": [],
   "source": [
    "class SimplePendulum:\n",
    "    \"\"\" Manage and integrate a simple pendulum \"\"\"\n",
    "\n",
    "    def __init__(self, theta0, g=9.81, L=9.81, method=\"Euler\"):\n",
    "        \"\"\" We'll take theta0 in degrees and assume that the angular\n",
    "        velocity is initially 0 \"\"\"\n",
    "        \n",
    "        # Initial condition\n",
    "        self.theta0 = np.radians(theta0)\n",
    "\n",
    "        self.g = g\n",
    "        self.L = L\n",
    "\n",
    "    def rhs(self, theta, omega):\n",
    "        \"\"\" Equations of motion for a pendulum\n",
    "              dtheta/dt = omega\n",
    "              domega/dt = - (g/L) sin theta \"\"\"\n",
    "\n",
    "        return np.array([omega, -(self.g / self.L) * np.sin(theta)])\n",
    "\n",
    "    def integrate_euler(self, dt, tmax):\n",
    "        \"\"\" Integrate the equations of motion using Euler's method \"\"\"\n",
    "\n",
    "        # Initial conditions\n",
    "        t = 0.0\n",
    "\n",
    "        t_s     = [t]\n",
    "        theta_s = [self.theta0]\n",
    "        omega_s = [0.0]\n",
    "\n",
    "        while t < tmax:\n",
    "\n",
    "            # Initial state\n",
    "            theta = theta_s[-1]\n",
    "            omega = omega_s[-1]\n",
    "            \n",
    "            # Get the RHS\n",
    "            thetadot, omegadot = self.rhs(theta, omega)\n",
    "\n",
    "            # Advance\n",
    "            theta_new = theta + dt * thetadot\n",
    "            omega_new = omega + dt * omegadot\n",
    "\n",
    "            t += dt\n",
    "\n",
    "            # Store\n",
    "            t_s.append(t)\n",
    "            theta_s.append(theta_new)\n",
    "            omega_s.append(omega_new)\n",
    "\n",
    "        return np.array(t_s), np.array(theta_s), np.array(omega_s)"
   ]
  },
  {
   "cell_type": "code",
   "execution_count": null,
   "metadata": {},
   "outputs": [],
   "source": [
    "theta0  = 10.0 # Initial angle in degrees -- the class converts to radians\n",
    "dt      = 0.1\n",
    "tmax    = 20.0\n",
    "\n",
    "p10 = SimplePendulum(theta0)\n",
    "t_euler, theta_euler, omega_euler = p10.integrate_euler(dt, tmax)\n",
    "\n",
    "fig, ax = plt.subplots()\n",
    "ax.plot(t_euler, theta_euler, label=\"Euler\")\n",
    "ax.set_xlabel(\"t [s]\")\n",
    "ax.set_ylabel(r\"$\\theta(t)$\");"
   ]
  },
  {
   "cell_type": "markdown",
   "metadata": {},
   "source": [
    "## 2nd order Runge-Kutta method"
   ]
  },
  {
   "cell_type": "markdown",
   "metadata": {},
   "source": [
    "Know the centered derivative is second order accurate, so we take a half-step in between on the form\n",
    "\n",
    "$$ f^{n+1} = f^n + \\Delta x\\dot{f}^{n+\\frac{1}{2}} +  \\mathcal{O}(\\Delta x^3) $$\n",
    "\n",
    "- Locally third order accurate\n",
    "\n",
    "- Globally second order accurate\n",
    "\n",
    "Use Euler's method to predict the half-way point. Two step process looks like\n",
    "\n",
    "$$ f^{\\star} = f^n + \\frac{\\tau}{2}\\dot{f}^n  $$\n",
    "\n",
    "Giving the full update \n",
    "\n",
    "$$ f^{n+1} = f^n + \\tau f^{\\star} $$"
   ]
  },
  {
   "cell_type": "code",
   "execution_count": null,
   "metadata": {},
   "outputs": [],
   "source": [
    "def integrate_RK2(state0, tau, T):\n",
    "\n",
    "    times   = []\n",
    "    history = []\n",
    "    \n",
    "    # Initialize time\n",
    "    t = 0\n",
    "    \n",
    "    # Store the initial conditions\n",
    "    times.append(t)\n",
    "    history.append(state0)\n",
    "    \n",
    "    # Main timestep loop\n",
    "    while t < T:\n",
    "        \n",
    "        # Always the newly added state\n",
    "        state_old = history[-1]\n",
    "        \n",
    "        # Make sure that the last step does not take us past T\n",
    "        if t + tau > T:\n",
    "            tau = T - t\n",
    "\n",
    "        # Get the RHS\n",
    "        fdot = \"insert_here\".rhs(state_old)\n",
    "    \n",
    "        # Predict the state at the midpoint\n",
    "        state_tmp = state_old + 0.5 * tau * fdot\n",
    "        \n",
    "        # Evaluate the RHS at the midpoint\n",
    "        fdot = \"insert_here\".rhs(state_tmp)\n",
    "        \n",
    "        # Do the final update\n",
    "        state_new = state_old + tau * fdot\n",
    "        t += tau\n",
    "        \n",
    "        # Store the state\n",
    "        times.append(t)\n",
    "        history.append(state_new)\n",
    "        \n",
    "    return times, history"
   ]
  },
  {
   "cell_type": "code",
   "execution_count": null,
   "metadata": {},
   "outputs": [],
   "source": [
    "T   = 1\n",
    "tau = 0.1\n",
    "\n",
    "state0 = \"initial_conditions\"\n",
    "\n",
    "times, history = integrate_RK2(state0, tau, T)"
   ]
  },
  {
   "cell_type": "markdown",
   "metadata": {},
   "source": [
    "## 4th order Runge-Kutta"
   ]
  },
  {
   "cell_type": "markdown",
   "metadata": {},
   "source": [
    "General system of first order differential equations $\\dot{y}=f(t, y)$ (vector)\n",
    "\n",
    "$$ y^{n+1} = y^n + \\frac{\\tau}{6} (k_1 + 2k_2 + 2k_3 + k_4) $$\n",
    "\n",
    "- $ k_1 = f(t^n, y^n) $\n",
    "\n",
    "- $ k_2 = f(t^n + \\tau/2, y^n + (\\tau/2)k_1) $\n",
    "\n",
    "- $ k_3 = f(t^n + \\tau/2, y^n + (\\tau/2)k_2) $\n",
    "\n",
    "- $ k_4 = f(t^n + \\tau, y^n + \\tau k_3) $\n",
    "\n",
    "Linear combination, but weighted unequally\n",
    "\n",
    "- Globally fourth order accurate\n",
    "\n",
    "- Locally fifth order accurate\n",
    "\n",
    "Fixed timestep, see RK45 for adaptive timestepping"
   ]
  },
  {
   "cell_type": "code",
   "execution_count": null,
   "metadata": {},
   "outputs": [],
   "source": [
    "def integrate_RK4(state0, tau, T):\n",
    "\n",
    "    times   = []\n",
    "    history = []\n",
    "    \n",
    "    # Initialize time\n",
    "    t = 0\n",
    "    \n",
    "    # Store the initial conditions\n",
    "    times.append(t)\n",
    "    history.append(state0)\n",
    "    \n",
    "    # Main timestep loop\n",
    "    while t < T:\n",
    "        \n",
    "        state_old = history[-1]\n",
    "        \n",
    "        # Make sure that the last step does not take us past T\n",
    "        if t + tau > T:\n",
    "            tau = T - t\n",
    "\n",
    "        # Get the RHS\n",
    "        k1 = \"insert_here\".rhs(state_old)\n",
    "         \n",
    "        state_tmp = state_old + 0.5 * tau * k1\n",
    "        k2 = \"insert_here\".rhs(state_tmp)\n",
    "        \n",
    "        state_tmp = state_old + 0.5 * tau * k2\n",
    "        k3 = \"insert_here\".rhs(state_tmp)\n",
    "        \n",
    "        state_tmp = state_old + tau * k3\n",
    "        k4 = \"insert_here\".rhs(state_tmp)\n",
    "        \n",
    "        # Do the final update\n",
    "        state_new = state_old + tau / 6.0 * (k1 + 2*k2 + 2*k3 + k4)\n",
    "        t += tau\n",
    "        \n",
    "        # Store the state\n",
    "        times.append(t)\n",
    "        history.append(state_new)\n",
    "        \n",
    "    return times, history"
   ]
  },
  {
   "cell_type": "code",
   "execution_count": null,
   "metadata": {},
   "outputs": [],
   "source": [
    "T   = 1\n",
    "tau = 0.1\n",
    "\n",
    "state0 = \"initial_conditions\"\n",
    "\n",
    "times, history = integrate_RK4(state0, tau, T)"
   ]
  },
  {
   "cell_type": "markdown",
   "metadata": {},
   "source": [
    "## SciPy"
   ]
  },
  {
   "cell_type": "code",
   "execution_count": null,
   "metadata": {},
   "outputs": [],
   "source": [
    "from scipy import integrate"
   ]
  },
  {
   "cell_type": "code",
   "execution_count": 9,
   "metadata": {},
   "outputs": [],
   "source": [
    "def rhs():\n",
    "    \"\"\" Right hand side function \"\"\""
   ]
  },
  {
   "cell_type": "code",
   "execution_count": null,
   "metadata": {},
   "outputs": [],
   "source": [
    "yvec0 = \"initial_conditions\"\n",
    "\n",
    "sol = integrate.solve_ivp(rhs, (0, tmax), yvec0, method=\"RK45\")"
   ]
  }
 ],
 "metadata": {
  "kernelspec": {
   "display_name": "base",
   "language": "python",
   "name": "python3"
  },
  "language_info": {
   "codemirror_mode": {
    "name": "ipython",
    "version": 3
   },
   "file_extension": ".py",
   "mimetype": "text/x-python",
   "name": "python",
   "nbconvert_exporter": "python",
   "pygments_lexer": "ipython3",
   "version": "3.11.8"
  }
 },
 "nbformat": 4,
 "nbformat_minor": 2
}
