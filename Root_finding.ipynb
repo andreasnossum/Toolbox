{
 "cells": [
  {
   "cell_type": "markdown",
   "metadata": {},
   "source": [
    "# Root finding"
   ]
  },
  {
   "cell_type": "markdown",
   "metadata": {},
   "source": [
    "- Bisection method\n",
    "    - Process\n",
    "    - Limitations\n",
    "\n",
    "- Newton-Raphson method\n",
    "    - Process\n",
    "    - Limitations\n",
    "\n",
    "- Scipy: optimize"
   ]
  },
  {
   "cell_type": "code",
   "execution_count": null,
   "metadata": {},
   "outputs": [],
   "source": []
  }
 ],
 "metadata": {
  "language_info": {
   "name": "python"
  }
 },
 "nbformat": 4,
 "nbformat_minor": 2
}
